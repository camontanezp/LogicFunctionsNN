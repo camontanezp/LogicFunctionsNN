{
 "cells": [
  {
   "cell_type": "markdown",
   "metadata": {},
   "source": [
    "# A simple single layer neural network for the Material Conditional"
   ]
  },
  {
   "cell_type": "markdown",
   "metadata": {},
   "source": [
    "## This is an implementation of a simple neural network that given to inputs $p$ and $q$ returns $p \\implies q$"
   ]
  },
  {
   "cell_type": "markdown",
   "metadata": {},
   "source": [
    "Below, there is a plot showing the four different conbinations of inputs $p$ and $q$ with a label showing the corresponding value of $p \\implies q$. A discriminant function for the material conditional can be $g(p,q) = 0.5 -p + q$"
   ]
  },
  {
   "cell_type": "code",
   "execution_count": 1,
   "metadata": {
    "collapsed": true
   },
   "outputs": [],
   "source": [
    "%matplotlib inline"
   ]
  },
  {
   "cell_type": "code",
   "execution_count": 36,
   "metadata": {
    "collapsed": false
   },
   "outputs": [
    {
     "data": {
      "image/png": "[encoded data removed]",
      "text/plain": [
       "<matplotlib.figure.Figure at 0x105e14630>"
      ]
     },
     "metadata": {},
     "output_type": "display_data"
    }
   ],
   "source": [
    "import numpy as np\n",
    "import matplotlib.pyplot as plt\n",
    "plt.plot([0,0,1], [0,1,1], \"rs\")\n",
    "plt.plot([1],[0],\"bo\")\n",
    "plt.plot([-0.5,1.5], [-1,1], \"g-\")\n",
    "plt.grid(True)\n",
    "plt.xlabel(\"p\")\n",
    "plt.ylabel(\"q\")\n",
    "plt.axis([-0.5,1.5,-0.5,1.5])\n",
    "plt.text(0.02, 0, \"1\", fontsize=14)\n",
    "plt.text(0.02, 1, \"1\", fontsize=14)\n",
    "plt.text(1.02, 1, \"1\", fontsize=14)\n",
    "plt.text(1.02, 0, \"0\", fontsize=14)\n",
    "plt.text(1.02, 0.5, \"g(p,q)\", fontsize=14)\n",
    "plt.show()"
   ]
  },
  {
   "cell_type": "code",
   "execution_count": 3,
   "metadata": {
    "collapsed": true
   },
   "outputs": [],
   "source": [
    "def gcond(p, q):\n",
    "    return 0.5 - p + q"
   ]
  },
  {
   "cell_type": "markdown",
   "metadata": {},
   "source": [
    "The above function, returns the weighted sum $\\sum_{i = 0}^{2}w_0x_0$ where $x_0 = 1, x_1 = p, x_2 = q$ are the inputs, and $w_0 = 0.5, w_1 = -1, w_2 = 1$ are the weights"
   ]
  },
  {
   "cell_type": "markdown",
   "metadata": {},
   "source": [
    "If this sum is above a threshold, $\\theta$, the neuron fires and produces the value $+1$. For the threshold we use $\\theta = 0$ and for the threshold function, the step function."
   ]
  },
  {
   "cell_type": "code",
   "execution_count": 4,
   "metadata": {
    "collapsed": true
   },
   "outputs": [],
   "source": [
    "def step(s):\n",
    "    signal = 0\n",
    "    if s >= 0: signal = 1\n",
    "    return signal\n"
   ]
  },
  {
   "cell_type": "markdown",
   "metadata": {},
   "source": [
    "The output of this neural network is $y = step(gcond(p, q))$ which should be the same as $p \\implies q$"
   ]
  },
  {
   "cell_type": "code",
   "execution_count": 5,
   "metadata": {
    "collapsed": true
   },
   "outputs": [],
   "source": [
    "def implication(p, q):\n",
    "    return step(gcond(p, q))\n"
   ]
  },
  {
   "cell_type": "markdown",
   "metadata": {},
   "source": [
    "Let's compare the four different outputs of this NN with the values of $p \\implies q = \\neg p \\lor q$"
   ]
  },
  {
   "cell_type": "code",
   "execution_count": 6,
   "metadata": {
    "collapsed": false
   },
   "outputs": [
    {
     "data": {
      "text/plain": [
       "True"
      ]
     },
     "execution_count": 6,
     "metadata": {},
     "output_type": "execute_result"
    }
   ],
   "source": [
    "implication(0,0) == (not(0) or 0) "
   ]
  },
  {
   "cell_type": "code",
   "execution_count": 7,
   "metadata": {
    "collapsed": false
   },
   "outputs": [
    {
     "data": {
      "text/plain": [
       "True"
      ]
     },
     "execution_count": 7,
     "metadata": {},
     "output_type": "execute_result"
    }
   ],
   "source": [
    "implication(0,1) == (not(0) or 1) "
   ]
  },
  {
   "cell_type": "code",
   "execution_count": 8,
   "metadata": {
    "collapsed": false
   },
   "outputs": [
    {
     "data": {
      "text/plain": [
       "True"
      ]
     },
     "execution_count": 8,
     "metadata": {},
     "output_type": "execute_result"
    }
   ],
   "source": [
    "implication(1,0) == (not(1) or 0) "
   ]
  },
  {
   "cell_type": "code",
   "execution_count": 9,
   "metadata": {
    "collapsed": false
   },
   "outputs": [
    {
     "data": {
      "text/plain": [
       "True"
      ]
     },
     "execution_count": 9,
     "metadata": {},
     "output_type": "execute_result"
    }
   ],
   "source": [
    "implication(1,1) == (not(1) or 1) "
   ]
  },
  {
   "cell_type": "markdown",
   "metadata": {},
   "source": [
    "Conclusion: Since all comparisons return True, that means that the output of the NN and the value of the material conditional are the same."
   ]
  }
 ],
 "metadata": {
  "kernelspec": {
   "display_name": "Python 3",
   "language": "python",
   "name": "python3"
  },
  "language_info": {
   "codemirror_mode": {
    "name": "ipython",
    "version": 3
   },
   "file_extension": ".py",
   "mimetype": "text/x-python",
   "name": "python",
   "nbconvert_exporter": "python",
   "pygments_lexer": "ipython3",
   "version": "3.5.0"
  }
 },
 "nbformat": 4,
 "nbformat_minor": 0
}
